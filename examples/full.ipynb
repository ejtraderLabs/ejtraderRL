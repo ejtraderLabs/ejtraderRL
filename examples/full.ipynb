{
 "cells": [
  {
   "cell_type": "code",
   "execution_count": null,
   "metadata": {},
   "outputs": [],
   "source": [
    "from ejtraderRL import data, agent\n",
    "\n",
    "# forex data\n",
    "df = data.get_forex_data(\"EURUSD\", \"m15\")\n",
    "\n",
    "agent = agent.DQN(df=df, model_name=\"efficientnet_b0\", lr=1e-4, pip_scale=25, n=3, use_device=\"cpu\", \n",
    "                          gamma=0.99, train_spread=0.2, balance=1000, spread=7, risk=0.1)\n"
   ]
  },
  {
   "cell_type": "code",
   "execution_count": null,
   "metadata": {},
   "outputs": [],
   "source": [
    "agent.train()"
   ]
  },
  {
   "cell_type": "code",
   "execution_count": null,
   "metadata": {},
   "outputs": [],
   "source": [
    "from ejtraderRL import app"
   ]
  },
  {
   "cell_type": "code",
   "execution_count": null,
   "metadata": {},
   "outputs": [],
   "source": [
    "app.web()"
   ]
  },
  {
   "cell_type": "code",
   "execution_count": 1,
   "metadata": {},
   "outputs": [],
   "source": [
    "from ejtraderRL import data"
   ]
  },
  {
   "cell_type": "code",
   "execution_count": 2,
   "metadata": {},
   "outputs": [
    {
     "name": "stdout",
     "output_type": "stream",
     "text": [
      "                  Date      open      high       low     close  tick_volume\n",
      "0  2012-11-16 00:00:00  127801.0  127835.0  127777.0  127810.0          869\n",
      "1  2012-11-16 01:00:00  127809.0  127837.0  127686.0  127736.0         1408\n",
      "2  2012-11-16 02:00:00  127738.0  127769.0  127706.0  127734.0         1285\n",
      "3  2012-11-16 03:00:00  127738.0  127762.0  127673.0  127695.0         1210\n",
      "4  2012-11-16 04:00:00  127694.0  127771.0  127641.0  127724.0         1487\n"
     ]
    }
   ],
   "source": [
    "df = data.get_forex_data(\"EURUSD\", \"h1\")\n",
    "\n",
    "print(df.head())"
   ]
  }
 ],
 "metadata": {
  "kernelspec": {
   "display_name": "Python 3.8.13 ('tensorflow')",
   "language": "python",
   "name": "python3"
  },
  "language_info": {
   "codemirror_mode": {
    "name": "ipython",
    "version": 3
   },
   "file_extension": ".py",
   "mimetype": "text/x-python",
   "name": "python",
   "nbconvert_exporter": "python",
   "pygments_lexer": "ipython3",
   "version": "3.8.13"
  },
  "orig_nbformat": 4,
  "vscode": {
   "interpreter": {
    "hash": "4721a3cbc71f91d1ed343ab0a7322e9fd6f6900ec1a3e4ce78a9a484d467e2f8"
   }
  }
 },
 "nbformat": 4,
 "nbformat_minor": 2
}
